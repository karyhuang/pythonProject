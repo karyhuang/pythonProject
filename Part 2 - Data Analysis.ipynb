{
 "cells": [
  {
   "cell_type": "code",
   "execution_count": 3,
   "metadata": {
    "collapsed": false
   },
   "outputs": [],
   "source": [
    "import pandas # a libray for data structure\n",
    "import numpy #a library for arrays\n",
    "import matplotlib.pyplot as plt # a module for plotting\n",
    "\n",
    "# import seaborn\n",
    "# import statsmodels.api as sm"
   ]
  },
  {
   "cell_type": "code",
   "execution_count": 4,
   "metadata": {
    "collapsed": false
   },
   "outputs": [
    {
     "name": "stdout",
     "output_type": "stream",
     "text": [
      "189\n",
      "11\n"
     ]
    }
   ],
   "source": [
    "data=pandas.read_csv(r'birthwt.csv', low_memory=False)\n",
    "# low_memory=false is for efficiency purposes\n",
    "\n",
    "# data is a dataframe from pandas\n",
    "\n",
    "print(len(data)) # find out how many rows of data\n",
    "print(len(data.columns)) # find out how many columns of data "
   ]
  },
  {
   "cell_type": "code",
   "execution_count": null,
   "metadata": {
    "collapsed": false
   },
   "outputs": [],
   "source": [
    "print(data.columns)"
   ]
  },
  {
   "cell_type": "code",
   "execution_count": 9,
   "metadata": {
    "collapsed": false
   },
   "outputs": [
    {
     "data": {
      "text/plain": [
       "pandas.core.frame.DataFrame"
      ]
     },
     "execution_count": 9,
     "metadata": {},
     "output_type": "execute_result"
    }
   ],
   "source": [
    "type(data)"
   ]
  },
  {
   "cell_type": "code",
   "execution_count": 10,
   "metadata": {
    "collapsed": false,
    "scrolled": true
   },
   "outputs": [
    {
     "data": {
      "text/html": [
       "<div>\n",
       "<table border=\"1\" class=\"dataframe\">\n",
       "  <thead>\n",
       "    <tr style=\"text-align: right;\">\n",
       "      <th></th>\n",
       "      <th>Unnamed: 0</th>\n",
       "      <th>low</th>\n",
       "      <th>age</th>\n",
       "      <th>lwt</th>\n",
       "      <th>race</th>\n",
       "      <th>smoke</th>\n",
       "      <th>ptl</th>\n",
       "      <th>ht</th>\n",
       "      <th>ui</th>\n",
       "      <th>ftv</th>\n",
       "      <th>bwt</th>\n",
       "    </tr>\n",
       "  </thead>\n",
       "  <tbody>\n",
       "    <tr>\n",
       "      <th>0</th>\n",
       "      <td>85</td>\n",
       "      <td>0</td>\n",
       "      <td>19</td>\n",
       "      <td>182</td>\n",
       "      <td>2</td>\n",
       "      <td>0</td>\n",
       "      <td>0</td>\n",
       "      <td>0</td>\n",
       "      <td>1</td>\n",
       "      <td>0</td>\n",
       "      <td>2523</td>\n",
       "    </tr>\n",
       "    <tr>\n",
       "      <th>1</th>\n",
       "      <td>86</td>\n",
       "      <td>0</td>\n",
       "      <td>33</td>\n",
       "      <td>155</td>\n",
       "      <td>3</td>\n",
       "      <td>0</td>\n",
       "      <td>0</td>\n",
       "      <td>0</td>\n",
       "      <td>0</td>\n",
       "      <td>3</td>\n",
       "      <td>2551</td>\n",
       "    </tr>\n",
       "    <tr>\n",
       "      <th>2</th>\n",
       "      <td>87</td>\n",
       "      <td>0</td>\n",
       "      <td>20</td>\n",
       "      <td>105</td>\n",
       "      <td>1</td>\n",
       "      <td>1</td>\n",
       "      <td>0</td>\n",
       "      <td>0</td>\n",
       "      <td>0</td>\n",
       "      <td>1</td>\n",
       "      <td>2557</td>\n",
       "    </tr>\n",
       "    <tr>\n",
       "      <th>3</th>\n",
       "      <td>88</td>\n",
       "      <td>0</td>\n",
       "      <td>21</td>\n",
       "      <td>108</td>\n",
       "      <td>1</td>\n",
       "      <td>1</td>\n",
       "      <td>0</td>\n",
       "      <td>0</td>\n",
       "      <td>1</td>\n",
       "      <td>2</td>\n",
       "      <td>2594</td>\n",
       "    </tr>\n",
       "    <tr>\n",
       "      <th>4</th>\n",
       "      <td>89</td>\n",
       "      <td>0</td>\n",
       "      <td>18</td>\n",
       "      <td>107</td>\n",
       "      <td>1</td>\n",
       "      <td>1</td>\n",
       "      <td>0</td>\n",
       "      <td>0</td>\n",
       "      <td>1</td>\n",
       "      <td>0</td>\n",
       "      <td>2600</td>\n",
       "    </tr>\n",
       "  </tbody>\n",
       "</table>\n",
       "</div>"
      ],
      "text/plain": [
       "   Unnamed: 0  low  age  lwt  race  smoke  ptl  ht  ui  ftv   bwt\n",
       "0          85    0   19  182     2      0    0   0   1    0  2523\n",
       "1          86    0   33  155     3      0    0   0   0    3  2551\n",
       "2          87    0   20  105     1      1    0   0   0    1  2557\n",
       "3          88    0   21  108     1      1    0   0   1    2  2594\n",
       "4          89    0   18  107     1      1    0   0   1    0  2600"
      ]
     },
     "execution_count": 10,
     "metadata": {},
     "output_type": "execute_result"
    }
   ],
   "source": [
    "data.head()\n",
    "# default gives you first 5 rows if unspecified"
   ]
  },
  {
   "cell_type": "code",
   "execution_count": 11,
   "metadata": {
    "collapsed": false
   },
   "outputs": [
    {
     "data": {
      "text/html": [
       "<div>\n",
       "<table border=\"1\" class=\"dataframe\">\n",
       "  <thead>\n",
       "    <tr style=\"text-align: right;\">\n",
       "      <th></th>\n",
       "      <th>Unnamed: 0</th>\n",
       "      <th>low</th>\n",
       "      <th>age</th>\n",
       "      <th>lwt</th>\n",
       "      <th>race</th>\n",
       "      <th>smoke</th>\n",
       "      <th>ptl</th>\n",
       "      <th>ht</th>\n",
       "      <th>ui</th>\n",
       "      <th>ftv</th>\n",
       "      <th>bwt</th>\n",
       "    </tr>\n",
       "  </thead>\n",
       "  <tbody>\n",
       "    <tr>\n",
       "      <th>0</th>\n",
       "      <td>85</td>\n",
       "      <td>0</td>\n",
       "      <td>19</td>\n",
       "      <td>182</td>\n",
       "      <td>2</td>\n",
       "      <td>0</td>\n",
       "      <td>0</td>\n",
       "      <td>0</td>\n",
       "      <td>1</td>\n",
       "      <td>0</td>\n",
       "      <td>2523</td>\n",
       "    </tr>\n",
       "    <tr>\n",
       "      <th>1</th>\n",
       "      <td>86</td>\n",
       "      <td>0</td>\n",
       "      <td>33</td>\n",
       "      <td>155</td>\n",
       "      <td>3</td>\n",
       "      <td>0</td>\n",
       "      <td>0</td>\n",
       "      <td>0</td>\n",
       "      <td>0</td>\n",
       "      <td>3</td>\n",
       "      <td>2551</td>\n",
       "    </tr>\n",
       "    <tr>\n",
       "      <th>2</th>\n",
       "      <td>87</td>\n",
       "      <td>0</td>\n",
       "      <td>20</td>\n",
       "      <td>105</td>\n",
       "      <td>1</td>\n",
       "      <td>1</td>\n",
       "      <td>0</td>\n",
       "      <td>0</td>\n",
       "      <td>0</td>\n",
       "      <td>1</td>\n",
       "      <td>2557</td>\n",
       "    </tr>\n",
       "    <tr>\n",
       "      <th>3</th>\n",
       "      <td>88</td>\n",
       "      <td>0</td>\n",
       "      <td>21</td>\n",
       "      <td>108</td>\n",
       "      <td>1</td>\n",
       "      <td>1</td>\n",
       "      <td>0</td>\n",
       "      <td>0</td>\n",
       "      <td>1</td>\n",
       "      <td>2</td>\n",
       "      <td>2594</td>\n",
       "    </tr>\n",
       "    <tr>\n",
       "      <th>4</th>\n",
       "      <td>89</td>\n",
       "      <td>0</td>\n",
       "      <td>18</td>\n",
       "      <td>107</td>\n",
       "      <td>1</td>\n",
       "      <td>1</td>\n",
       "      <td>0</td>\n",
       "      <td>0</td>\n",
       "      <td>1</td>\n",
       "      <td>0</td>\n",
       "      <td>2600</td>\n",
       "    </tr>\n",
       "    <tr>\n",
       "      <th>5</th>\n",
       "      <td>91</td>\n",
       "      <td>0</td>\n",
       "      <td>21</td>\n",
       "      <td>124</td>\n",
       "      <td>3</td>\n",
       "      <td>0</td>\n",
       "      <td>0</td>\n",
       "      <td>0</td>\n",
       "      <td>0</td>\n",
       "      <td>0</td>\n",
       "      <td>2622</td>\n",
       "    </tr>\n",
       "    <tr>\n",
       "      <th>6</th>\n",
       "      <td>92</td>\n",
       "      <td>0</td>\n",
       "      <td>22</td>\n",
       "      <td>118</td>\n",
       "      <td>1</td>\n",
       "      <td>0</td>\n",
       "      <td>0</td>\n",
       "      <td>0</td>\n",
       "      <td>0</td>\n",
       "      <td>1</td>\n",
       "      <td>2637</td>\n",
       "    </tr>\n",
       "    <tr>\n",
       "      <th>7</th>\n",
       "      <td>93</td>\n",
       "      <td>0</td>\n",
       "      <td>17</td>\n",
       "      <td>103</td>\n",
       "      <td>3</td>\n",
       "      <td>0</td>\n",
       "      <td>0</td>\n",
       "      <td>0</td>\n",
       "      <td>0</td>\n",
       "      <td>1</td>\n",
       "      <td>2637</td>\n",
       "    </tr>\n",
       "  </tbody>\n",
       "</table>\n",
       "</div>"
      ],
      "text/plain": [
       "   Unnamed: 0  low  age  lwt  race  smoke  ptl  ht  ui  ftv   bwt\n",
       "0          85    0   19  182     2      0    0   0   1    0  2523\n",
       "1          86    0   33  155     3      0    0   0   0    3  2551\n",
       "2          87    0   20  105     1      1    0   0   0    1  2557\n",
       "3          88    0   21  108     1      1    0   0   1    2  2594\n",
       "4          89    0   18  107     1      1    0   0   1    0  2600\n",
       "5          91    0   21  124     3      0    0   0   0    0  2622\n",
       "6          92    0   22  118     1      0    0   0   0    1  2637\n",
       "7          93    0   17  103     3      0    0   0   0    1  2637"
      ]
     },
     "execution_count": 11,
     "metadata": {},
     "output_type": "execute_result"
    }
   ],
   "source": [
    "data.head(8)"
   ]
  },
  {
   "cell_type": "code",
   "execution_count": 12,
   "metadata": {
    "collapsed": false
   },
   "outputs": [],
   "source": [
    "# Select specific columns from the bigger data set\n",
    "# code here means from pandas import Dataframe\n",
    "dfb=pandas.DataFrame(data, columns=['low', 'lwt', 'smoke', 'ftv', 'bwt'])"
   ]
  },
  {
   "cell_type": "code",
   "execution_count": 13,
   "metadata": {
    "collapsed": false
   },
   "outputs": [
    {
     "data": {
      "text/html": [
       "<div>\n",
       "<table border=\"1\" class=\"dataframe\">\n",
       "  <thead>\n",
       "    <tr style=\"text-align: right;\">\n",
       "      <th></th>\n",
       "      <th>low</th>\n",
       "      <th>lwt</th>\n",
       "      <th>smoke</th>\n",
       "      <th>ftv</th>\n",
       "      <th>bwt</th>\n",
       "    </tr>\n",
       "  </thead>\n",
       "  <tbody>\n",
       "    <tr>\n",
       "      <th>0</th>\n",
       "      <td>0</td>\n",
       "      <td>182</td>\n",
       "      <td>0</td>\n",
       "      <td>0</td>\n",
       "      <td>2523</td>\n",
       "    </tr>\n",
       "    <tr>\n",
       "      <th>1</th>\n",
       "      <td>0</td>\n",
       "      <td>155</td>\n",
       "      <td>0</td>\n",
       "      <td>3</td>\n",
       "      <td>2551</td>\n",
       "    </tr>\n",
       "    <tr>\n",
       "      <th>2</th>\n",
       "      <td>0</td>\n",
       "      <td>105</td>\n",
       "      <td>1</td>\n",
       "      <td>1</td>\n",
       "      <td>2557</td>\n",
       "    </tr>\n",
       "    <tr>\n",
       "      <th>3</th>\n",
       "      <td>0</td>\n",
       "      <td>108</td>\n",
       "      <td>1</td>\n",
       "      <td>2</td>\n",
       "      <td>2594</td>\n",
       "    </tr>\n",
       "    <tr>\n",
       "      <th>4</th>\n",
       "      <td>0</td>\n",
       "      <td>107</td>\n",
       "      <td>1</td>\n",
       "      <td>0</td>\n",
       "      <td>2600</td>\n",
       "    </tr>\n",
       "  </tbody>\n",
       "</table>\n",
       "</div>"
      ],
      "text/plain": [
       "   low  lwt  smoke  ftv   bwt\n",
       "0    0  182      0    0  2523\n",
       "1    0  155      0    3  2551\n",
       "2    0  105      1    1  2557\n",
       "3    0  108      1    2  2594\n",
       "4    0  107      1    0  2600"
      ]
     },
     "execution_count": 13,
     "metadata": {},
     "output_type": "execute_result"
    }
   ],
   "source": [
    "dfb.head()"
   ]
  },
  {
   "cell_type": "code",
   "execution_count": 14,
   "metadata": {
    "collapsed": false
   },
   "outputs": [
    {
     "name": "stdout",
     "output_type": "stream",
     "text": [
      "0    0\n",
      "1    0\n",
      "2    1\n",
      "3    1\n",
      "4    1\n",
      "Name: smoke, dtype: int64\n"
     ]
    }
   ],
   "source": [
    "# check the smoke values of the first 5 rows\n",
    "\n",
    "smoke_values=dfb.head()['smoke']\n",
    "print(smoke_values)"
   ]
  },
  {
   "cell_type": "code",
   "execution_count": 15,
   "metadata": {
    "collapsed": false
   },
   "outputs": [
    {
     "name": "stdout",
     "output_type": "stream",
     "text": [
      "1    3\n",
      "0    2\n",
      "Name: smoke, dtype: int64\n"
     ]
    }
   ],
   "source": [
    "# convert string to numeric\n",
    "\n",
    "# counting what smoke values appear how many times in the first 5 rows, use the value_counts function\n",
    "# here, value 1 appears 3 times, and value 0 appears 2 times\n",
    "smoke_count = dfb.head()['smoke'].value_counts() #sort=False\n",
    "print(smoke_count)"
   ]
  },
  {
   "cell_type": "code",
   "execution_count": 16,
   "metadata": {
    "collapsed": false
   },
   "outputs": [
    {
     "name": "stdout",
     "output_type": "stream",
     "text": [
      "0    100\n",
      "1     47\n",
      "2     30\n",
      "3      7\n",
      "4      4\n",
      "6      1\n",
      "Name: ftv, dtype: int64\n"
     ]
    }
   ],
   "source": [
    "# convert string to numeric\n",
    "ftv_count = dfb['ftv'].value_counts(sort=False)\n",
    "print(ftv_count)"
   ]
  },
  {
   "cell_type": "code",
   "execution_count": 17,
   "metadata": {
    "collapsed": false
   },
   "outputs": [
    {
     "name": "stdout",
     "output_type": "stream",
     "text": [
      "0    100\n",
      "1     47\n",
      "2     30\n",
      "3      7\n",
      "4      4\n",
      "6      1\n",
      "Name: ftv, dtype: int64\n"
     ]
    }
   ],
   "source": [
    "# convert the ftv values to numeric just to be safe\n",
    "# if the values are only 0 or 1, it's categorical, like smoke. Otherwise, convert to numeric to be safe\n",
    "\n",
    "\n",
    "dfb['ftv']=pandas.to_numeric(dfb['ftv'])\n",
    "ftv_count = dfb['ftv'].value_counts(sort=False)\n",
    "print(ftv_count)\n",
    "\n",
    "# if numeric data\n",
    "# first, data['RAD']=pandas.to_numeric(data['RAD'])\n",
    "# then, v_count=data['RAD'].value_counts(sort=False)"
   ]
  },
  {
   "cell_type": "code",
   "execution_count": 18,
   "metadata": {
    "collapsed": false
   },
   "outputs": [
    {
     "name": "stdout",
     "output_type": "stream",
     "text": [
      "Lwt Distribution:\n",
      "80     0.005291\n",
      "85     0.010582\n",
      "89     0.005291\n",
      "90     0.015873\n",
      "91     0.005291\n",
      "92     0.005291\n",
      "94     0.005291\n",
      "95     0.031746\n",
      "96     0.005291\n",
      "97     0.005291\n",
      "98     0.005291\n",
      "100    0.026455\n",
      "101    0.005291\n",
      "102    0.010582\n",
      "103    0.015873\n",
      "105    0.037037\n",
      "107    0.010582\n",
      "108    0.005291\n",
      "109    0.010582\n",
      "110    0.058201\n",
      "112    0.021164\n",
      "113    0.015873\n",
      "115    0.037037\n",
      "116    0.005291\n",
      "117    0.010582\n",
      "118    0.010582\n",
      "119    0.015873\n",
      "120    0.089947\n",
      "121    0.021164\n",
      "122    0.010582\n",
      "         ...   \n",
      "141    0.005291\n",
      "142    0.010582\n",
      "147    0.010582\n",
      "148    0.005291\n",
      "150    0.026455\n",
      "153    0.005291\n",
      "154    0.010582\n",
      "155    0.015873\n",
      "158    0.010582\n",
      "160    0.010582\n",
      "165    0.005291\n",
      "167    0.005291\n",
      "168    0.005291\n",
      "169    0.010582\n",
      "170    0.021164\n",
      "175    0.005291\n",
      "182    0.005291\n",
      "184    0.005291\n",
      "185    0.005291\n",
      "186    0.005291\n",
      "187    0.010582\n",
      "189    0.005291\n",
      "190    0.010582\n",
      "200    0.005291\n",
      "202    0.005291\n",
      "215    0.005291\n",
      "229    0.005291\n",
      "235    0.005291\n",
      "241    0.005291\n",
      "250    0.005291\n",
      "Name: lwt, dtype: float64\n"
     ]
    }
   ],
   "source": [
    "# count for lwt\n",
    "lwt_count = dfb['lwt'].value_counts(sort=False, normalize=True) # normalize=True gives you the percentage instead of amount\n",
    "print('Lwt Distribution:', lwt_count, sep='\\n')"
   ]
  },
  {
   "cell_type": "code",
   "execution_count": 19,
   "metadata": {
    "collapsed": false
   },
   "outputs": [
    {
     "name": "stdout",
     "output_type": "stream",
     "text": [
      "lwt\n",
      "80      1\n",
      "85      2\n",
      "89      1\n",
      "90      3\n",
      "91      1\n",
      "92      1\n",
      "94      1\n",
      "95      6\n",
      "96      1\n",
      "97      1\n",
      "98      1\n",
      "100     5\n",
      "101     1\n",
      "102     2\n",
      "103     3\n",
      "105     7\n",
      "107     2\n",
      "108     1\n",
      "109     2\n",
      "110    11\n",
      "112     4\n",
      "113     3\n",
      "115     7\n",
      "116     1\n",
      "117     2\n",
      "118     2\n",
      "119     3\n",
      "120    17\n",
      "121     4\n",
      "122     2\n",
      "       ..\n",
      "141     1\n",
      "142     2\n",
      "147     2\n",
      "148     1\n",
      "150     5\n",
      "153     1\n",
      "154     2\n",
      "155     3\n",
      "158     2\n",
      "160     2\n",
      "165     1\n",
      "167     1\n",
      "168     1\n",
      "169     2\n",
      "170     4\n",
      "175     1\n",
      "182     1\n",
      "184     1\n",
      "185     1\n",
      "186     1\n",
      "187     2\n",
      "189     1\n",
      "190     2\n",
      "200     1\n",
      "202     1\n",
      "215     1\n",
      "229     1\n",
      "235     1\n",
      "241     1\n",
      "250     1\n",
      "dtype: int64\n"
     ]
    }
   ],
   "source": [
    "#  count for lwt using groupby function\n",
    "# same result as the above cell if didn't include normalize=True\n",
    "\n",
    "x=data.groupby('lwt').size()\n",
    "#x=data.groupby('ftv').size()*100/len(data)\n",
    "print(x)"
   ]
  },
  {
   "cell_type": "code",
   "execution_count": 25,
   "metadata": {
    "collapsed": true
   },
   "outputs": [],
   "source": [
    "import seaborn\n",
    "\n",
    "# make sure that this package is installed\n",
    "# close jupyter notebook including the terminal running in a background window\n",
    "# open terminal program on mac (or equivalent in Windows)\n",
    "# type the following command \"conda install seaborn\"\n",
    "# follow the prompts\n",
    "# this should work for most packages\n",
    "# more on seaborn at: https://stanford.edu/~mwaskom/software/seaborn/"
   ]
  },
  {
   "cell_type": "code",
   "execution_count": 26,
   "metadata": {
    "collapsed": false
   },
   "outputs": [
    {
     "data": {
      "text/plain": [
       "<matplotlib.text.Text at 0x11ebc17e278>"
      ]
     },
     "execution_count": 26,
     "metadata": {},
     "output_type": "execute_result"
    },
    {
     "data": {
      "image/png": "[encoded data removed]",
      "text/plain": [
       "<matplotlib.figure.Figure at 0x11ebb0eab70>"
      ]
     },
     "metadata": {},
     "output_type": "display_data"
    }
   ],
   "source": [
    "%matplotlib inline\n",
    "seaborn.countplot(x='ftv', data=dfb) # x here means x-axis, pulling from the data called dfb\n",
    "plt.xlabel(\"Physician visits during the trimester\")\n",
    "plt.title(\"Number of Physician Visits During the Trimester\")"
   ]
  },
  {
   "cell_type": "code",
   "execution_count": 31,
   "metadata": {
    "collapsed": false
   },
   "outputs": [
    {
     "name": "stderr",
     "output_type": "stream",
     "text": [
      "C:\\Users\\kary\\Anaconda3\\lib\\site-packages\\statsmodels\\nonparametric\\kdetools.py:20: VisibleDeprecationWarning: using a non-integer number instead of an integer will result in an error in the future\n",
      "  y = X[:m/2+1] + np.r_[0,X[m/2+1:],0]*1j\n"
     ]
    },
    {
     "data": {
      "text/plain": [
       "<matplotlib.text.Text at 0x11ebc16cf28>"
      ]
     },
     "execution_count": 31,
     "metadata": {},
     "output_type": "execute_result"
    },
    {
     "data": {
      "image/png": "[encoded data removed]",
      "text/plain": [
       "<matplotlib.figure.Figure at 0x11ebc414c50>"
      ]
     },
     "metadata": {},
     "output_type": "display_data"
    }
   ],
   "source": [
    "# seaborn.distplot(dfb['lwt'])\n",
    "# seaborn.distplot(dfb['lwt'].dropna(), kde=False)\n",
    "seaborn.distplot(dfb['lwt'].dropna())\n",
    "# dropna() function drops rows with null values\n",
    "plt.title(\"Distribution Plot for Mother's Last Weights\")\n",
    "plt.xlabel(\"Mother's last weights before becoming pregnant\")"
   ]
  },
  {
   "cell_type": "code",
   "execution_count": 32,
   "metadata": {
    "collapsed": false
   },
   "outputs": [
    {
     "data": {
      "text/plain": [
       "count    189.000000\n",
       "mean     129.814815\n",
       "std       30.579380\n",
       "min       80.000000\n",
       "25%      110.000000\n",
       "50%      121.000000\n",
       "75%      140.000000\n",
       "max      250.000000\n",
       "Name: lwt, dtype: float64"
      ]
     },
     "execution_count": 32,
     "metadata": {},
     "output_type": "execute_result"
    }
   ],
   "source": [
    "dfb['lwt'].describe()"
   ]
  },
  {
   "cell_type": "code",
   "execution_count": 33,
   "metadata": {
    "collapsed": false
   },
   "outputs": [
    {
     "data": {
      "text/plain": [
       "129.8148148148148"
      ]
     },
     "execution_count": 33,
     "metadata": {},
     "output_type": "execute_result"
    }
   ],
   "source": [
    "dfb['lwt'].mean()\n",
    "# other descriptive stats as well"
   ]
  },
  {
   "cell_type": "code",
   "execution_count": 34,
   "metadata": {
    "collapsed": false
   },
   "outputs": [
    {
     "data": {
      "text/plain": [
       "250"
      ]
     },
     "execution_count": 34,
     "metadata": {},
     "output_type": "execute_result"
    }
   ],
   "source": [
    "dfb['lwt'].max()"
   ]
  },
  {
   "cell_type": "code",
   "execution_count": 35,
   "metadata": {
    "collapsed": false
   },
   "outputs": [
    {
     "data": {
      "text/plain": [
       "count    189.000000\n",
       "mean       0.793651\n",
       "std        1.059286\n",
       "min        0.000000\n",
       "25%        0.000000\n",
       "50%        0.000000\n",
       "75%        1.000000\n",
       "max        6.000000\n",
       "Name: ftv, dtype: float64"
      ]
     },
     "execution_count": 35,
     "metadata": {},
     "output_type": "execute_result"
    }
   ],
   "source": [
    "dfb['ftv'].describe()"
   ]
  },
  {
   "cell_type": "code",
   "execution_count": 37,
   "metadata": {
    "collapsed": false
   },
   "outputs": [
    {
     "data": {
      "text/plain": [
       "<matplotlib.text.Text at 0x11ebc6375f8>"
      ]
     },
     "execution_count": 37,
     "metadata": {},
     "output_type": "execute_result"
    },
    {
     "data": {
      "image/png": "[encoded data removed]",
      "text/plain": [
       "<matplotlib.figure.Figure at 0x11ebc5a4d30>"
      ]
     },
     "metadata": {},
     "output_type": "display_data"
    }
   ],
   "source": [
    "# Is there a problem in the descriptive stats above?\n",
    "# knowledge of basic stats is essential in figuring out appropriate desc. measures\n",
    "\n",
    "%matplotlib inline\n",
    "seaborn.countplot(x='smoke', data=dfb)\n",
    "plt.xlabel(\"Smoking status of mother\")\n",
    "plt.title(\"Whether Or Not the Mother Smokes\")"
   ]
  },
  {
   "cell_type": "code",
   "execution_count": 39,
   "metadata": {
    "collapsed": false
   },
   "outputs": [],
   "source": [
    "# smoke is a categorical variable\n",
    "# Next step is to designate appropriate variables as categorical\n",
    "\n",
    "dfb['smoke']=dfb['smoke'].astype('category') # set smoke as categorical type instead of numerical\n",
    "dfb['smoke']=dfb['smoke'].cat.rename_categories([\"No\", \"Yes\"]) # rename the categories"
   ]
  },
  {
   "cell_type": "code",
   "execution_count": 40,
   "metadata": {
    "collapsed": false
   },
   "outputs": [
    {
     "data": {
      "text/plain": [
       "<matplotlib.text.Text at 0x11ebc6a6748>"
      ]
     },
     "execution_count": 40,
     "metadata": {},
     "output_type": "execute_result"
    },
    {
     "data": {
      "image/png": "[encoded data removed]",
      "text/plain": [
       "<matplotlib.figure.Figure at 0x11ebb188eb8>"
      ]
     },
     "metadata": {},
     "output_type": "display_data"
    }
   ],
   "source": [
    "# Is there a problem in the descriptiveats above?\n",
    "\n",
    "%matplotlib inline\n",
    "seaborn.countplot(x='smoke', data=dfb)\n",
    "plt.xlabel(\"Smoking status of mother\")\n",
    "plt.title(\"Whether Or Not the Mother Smokes\")"
   ]
  },
  {
   "cell_type": "code",
   "execution_count": 41,
   "metadata": {
    "collapsed": false
   },
   "outputs": [
    {
     "data": {
      "text/plain": [
       "count     189\n",
       "unique      2\n",
       "top        No\n",
       "freq      115\n",
       "Name: smoke, dtype: object"
      ]
     },
     "execution_count": 41,
     "metadata": {},
     "output_type": "execute_result"
    }
   ],
   "source": [
    "dfb['smoke'].describe()"
   ]
  },
  {
   "cell_type": "code",
   "execution_count": 42,
   "metadata": {
    "collapsed": false
   },
   "outputs": [
    {
     "data": {
      "text/plain": [
       "<matplotlib.text.Text at 0x11ebc70b9b0>"
      ]
     },
     "execution_count": 42,
     "metadata": {},
     "output_type": "execute_result"
    },
    {
     "data": {
      "image/png": "[encoded data removed]",
      "text/plain": [
       "<matplotlib.figure.Figure at 0x11ebc559c18>"
      ]
     },
     "metadata": {},
     "output_type": "display_data"
    }
   ],
   "source": [
    "# plot for two variables - one on X and the other on Y\n",
    "\n",
    "seaborn.factorplot(x='smoke', y='ftv', data=dfb, kind='bar', ci=None)  # ci refers to error bars\n",
    "plt.xlabel(\"Smoking status of mother\")\n",
    "plt.ylabel('Physician visits during the trimester')"
   ]
  },
  {
   "cell_type": "code",
   "execution_count": null,
   "metadata": {
    "collapsed": true
   },
   "outputs": [],
   "source": [
    "# General Workflow\n",
    "# Get the data (from csv, web etc)\n",
    "# Get a sense of the data by \n",
    "    # examine few rows (df.head(), for example)\n",
    "    # data cleaning/manipulation (missing data, data from multiple sources) \n",
    "    # figure out the level of the variable (categorical or numeric)\n",
    "    # Sometimes you may need to assign some variables to be explicitly numeric (for example, RAD above)... \n",
    "        # ... while others as categorical (for example, CHAS above)\n",
    "    # get them done in the beginning before starting data analysis\n",
    "        # we did not do this here for pedagogical reasons\n",
    "# pandas is very good for the steps above; pandas, scipy and viz. packages for steps below\n",
    "# What is/are your target variable? what are your predictors?\n",
    "# Understand descriptive stats, distributions etc (sometimes using visualizations)\n",
    "# choose a stats model; run the model; evaluate the model (use scipy package; or even R after exporting the data)\n"
   ]
  },
  {
   "cell_type": "code",
   "execution_count": 25,
   "metadata": {
    "collapsed": false
   },
   "outputs": [
    {
     "data": {
      "text/plain": [
       "<matplotlib.text.Text at 0xaee0cf8>"
      ]
     },
     "execution_count": 25,
     "metadata": {},
     "output_type": "execute_result"
    },
    {
     "data": {
      "image/png": "[encoded data removed]",
      "text/plain": [
       "<matplotlib.figure.Figure at 0x7c91400>"
      ]
     },
     "metadata": {},
     "output_type": "display_data"
    }
   ],
   "source": [
    "# regplot (2 variables)\n",
    "\n",
    "seaborn.regplot(x='RM', y='MEDV', data=dfb, fit_reg=True)  # ci refers to error bars\n",
    "plt.xlabel(\"No. of Rooms\")\n",
    "plt.ylabel('Median House Value')\n",
    "plt.title(\"Scatterplot to show the relationship between No. of Rooms and House Price\")"
   ]
  },
  {
   "cell_type": "code",
   "execution_count": 26,
   "metadata": {
    "collapsed": true
   },
   "outputs": [],
   "source": [
    "# stats knowledge - look at the value around y=50; implication?"
   ]
  },
  {
   "cell_type": "code",
   "execution_count": 43,
   "metadata": {
    "collapsed": false
   },
   "outputs": [
    {
     "data": {
      "text/html": [
       "<div>\n",
       "<table border=\"1\" class=\"dataframe\">\n",
       "  <thead>\n",
       "    <tr style=\"text-align: right;\">\n",
       "      <th></th>\n",
       "      <th>low</th>\n",
       "      <th>smoke</th>\n",
       "      <th>ftv</th>\n",
       "      <th>bwt</th>\n",
       "    </tr>\n",
       "  </thead>\n",
       "  <tbody>\n",
       "    <tr>\n",
       "      <th>low</th>\n",
       "      <td>1.000000</td>\n",
       "      <td>0.161404</td>\n",
       "      <td>-0.062960</td>\n",
       "      <td>-0.784805</td>\n",
       "    </tr>\n",
       "    <tr>\n",
       "      <th>smoke</th>\n",
       "      <td>0.161404</td>\n",
       "      <td>1.000000</td>\n",
       "      <td>-0.028013</td>\n",
       "      <td>-0.190448</td>\n",
       "    </tr>\n",
       "    <tr>\n",
       "      <th>ftv</th>\n",
       "      <td>-0.062960</td>\n",
       "      <td>-0.028013</td>\n",
       "      <td>1.000000</td>\n",
       "      <td>0.058318</td>\n",
       "    </tr>\n",
       "    <tr>\n",
       "      <th>bwt</th>\n",
       "      <td>-0.784805</td>\n",
       "      <td>-0.190448</td>\n",
       "      <td>0.058318</td>\n",
       "      <td>1.000000</td>\n",
       "    </tr>\n",
       "  </tbody>\n",
       "</table>\n",
       "</div>"
      ],
      "text/plain": [
       "            low     smoke       ftv       bwt\n",
       "low    1.000000  0.161404 -0.062960 -0.784805\n",
       "smoke  0.161404  1.000000 -0.028013 -0.190448\n",
       "ftv   -0.062960 -0.028013  1.000000  0.058318\n",
       "bwt   -0.784805 -0.190448  0.058318  1.000000"
      ]
     },
     "execution_count": 43,
     "metadata": {},
     "output_type": "execute_result"
    }
   ],
   "source": [
    "dfb.corr()"
   ]
  },
  {
   "cell_type": "code",
   "execution_count": 28,
   "metadata": {
    "collapsed": true
   },
   "outputs": [],
   "source": [
    "# stats component from scipy is now a separate package\n",
    "# scipy is a broader package for doing a range of computations\n",
    "# people typically use python for data manipulation\n",
    "# use R/stats packages for data analysis; however, python for programming chops\n",
    "\n",
    "import statsmodels.api as sm"
   ]
  },
  {
   "cell_type": "code",
   "execution_count": 29,
   "metadata": {
    "collapsed": false
   },
   "outputs": [
    {
     "data": {
      "text/html": [
       "<table class=\"simpletable\">\n",
       "<caption>OLS Regression Results</caption>\n",
       "<tr>\n",
       "  <th>Dep. Variable:</th>          <td>MEDV</td>       <th>  R-squared:         </th> <td>   0.901</td> \n",
       "</tr>\n",
       "<tr>\n",
       "  <th>Model:</th>                   <td>OLS</td>       <th>  Adj. R-squared:    </th> <td>   0.901</td> \n",
       "</tr>\n",
       "<tr>\n",
       "  <th>Method:</th>             <td>Least Squares</td>  <th>  F-statistic:       </th> <td>   4615.</td> \n",
       "</tr>\n",
       "<tr>\n",
       "  <th>Date:</th>             <td>Thu, 20 Apr 2017</td> <th>  Prob (F-statistic):</th> <td>3.74e-256</td>\n",
       "</tr>\n",
       "<tr>\n",
       "  <th>Time:</th>                 <td>16:06:40</td>     <th>  Log-Likelihood:    </th> <td> -1747.1</td> \n",
       "</tr>\n",
       "<tr>\n",
       "  <th>No. Observations:</th>      <td>   506</td>      <th>  AIC:               </th> <td>   3496.</td> \n",
       "</tr>\n",
       "<tr>\n",
       "  <th>Df Residuals:</th>          <td>   505</td>      <th>  BIC:               </th> <td>   3500.</td> \n",
       "</tr>\n",
       "<tr>\n",
       "  <th>Df Model:</th>              <td>     1</td>      <th>                     </th>     <td> </td>    \n",
       "</tr>\n",
       "<tr>\n",
       "  <th>Covariance Type:</th>      <td>nonrobust</td>    <th>                     </th>     <td> </td>    \n",
       "</tr>\n",
       "</table>\n",
       "<table class=\"simpletable\">\n",
       "<tr>\n",
       "   <td></td>     <th>coef</th>     <th>std err</th>      <th>t</th>      <th>P>|t|</th> <th>[95.0% Conf. Int.]</th> \n",
       "</tr>\n",
       "<tr>\n",
       "  <th>RM</th> <td>    3.6534</td> <td>    0.054</td> <td>   67.930</td> <td> 0.000</td> <td>    3.548     3.759</td>\n",
       "</tr>\n",
       "</table>\n",
       "<table class=\"simpletable\">\n",
       "<tr>\n",
       "  <th>Omnibus:</th>       <td>83.295</td> <th>  Durbin-Watson:     </th> <td>   0.493</td>\n",
       "</tr>\n",
       "<tr>\n",
       "  <th>Prob(Omnibus):</th> <td> 0.000</td> <th>  Jarque-Bera (JB):  </th> <td> 152.507</td>\n",
       "</tr>\n",
       "<tr>\n",
       "  <th>Skew:</th>          <td> 0.955</td> <th>  Prob(JB):          </th> <td>7.65e-34</td>\n",
       "</tr>\n",
       "<tr>\n",
       "  <th>Kurtosis:</th>      <td> 4.894</td> <th>  Cond. No.          </th> <td>    1.00</td>\n",
       "</tr>\n",
       "</table>"
      ],
      "text/plain": [
       "<class 'statsmodels.iolib.summary.Summary'>\n",
       "\"\"\"\n",
       "                            OLS Regression Results                            \n",
       "==============================================================================\n",
       "Dep. Variable:                   MEDV   R-squared:                       0.901\n",
       "Model:                            OLS   Adj. R-squared:                  0.901\n",
       "Method:                 Least Squares   F-statistic:                     4615.\n",
       "Date:                Thu, 20 Apr 2017   Prob (F-statistic):          3.74e-256\n",
       "Time:                        16:06:40   Log-Likelihood:                -1747.1\n",
       "No. Observations:                 506   AIC:                             3496.\n",
       "Df Residuals:                     505   BIC:                             3500.\n",
       "Df Model:                           1                                         \n",
       "Covariance Type:            nonrobust                                         \n",
       "==============================================================================\n",
       "                 coef    std err          t      P>|t|      [95.0% Conf. Int.]\n",
       "------------------------------------------------------------------------------\n",
       "RM             3.6534      0.054     67.930      0.000         3.548     3.759\n",
       "==============================================================================\n",
       "Omnibus:                       83.295   Durbin-Watson:                   0.493\n",
       "Prob(Omnibus):                  0.000   Jarque-Bera (JB):              152.507\n",
       "Skew:                           0.955   Prob(JB):                     7.65e-34\n",
       "Kurtosis:                       4.894   Cond. No.                         1.00\n",
       "==============================================================================\n",
       "\n",
       "Warnings:\n",
       "[1] Standard Errors assume that the covariance matrix of the errors is correctly specified.\n",
       "\"\"\""
      ]
     },
     "execution_count": 29,
     "metadata": {},
     "output_type": "execute_result"
    }
   ],
   "source": [
    "result=sm.OLS(dfb['MEDV'], dfb['RM']).fit()\n",
    "result.summary()"
   ]
  },
  {
   "cell_type": "code",
   "execution_count": null,
   "metadata": {
    "collapsed": true
   },
   "outputs": [],
   "source": [
    "# other datasets\n",
    "# https://vincentarelbundock.github.io/Rdatasets/datasets.html\n",
    "# http://statweb.stanford.edu/~sabatti/data.html\n"
   ]
  }
 ],
 "metadata": {
  "anaconda-cloud": {},
  "kernelspec": {
   "display_name": "Python 3",
   "language": "python",
   "name": "python3"
  },
  "language_info": {
   "codemirror_mode": {
    "name": "ipython",
    "version": 3
   },
   "file_extension": ".py",
   "mimetype": "text/x-python",
   "name": "python",
   "nbconvert_exporter": "python",
   "pygments_lexer": "ipython3",
   "version": "3.6.0"
  }
 },
 "nbformat": 4,
 "nbformat_minor": 0
}
